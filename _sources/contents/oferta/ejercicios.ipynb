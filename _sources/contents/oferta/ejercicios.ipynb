{
 "cells": [
  {
   "cell_type": "code",
   "execution_count": null,
   "metadata": {
    "tags": [
     "remove-cell"
    ]
   },
   "outputs": [],
   "source": [
    "%run 'funciones'\n",
    "from datascience import *\n",
    "import numpy as np\n",
    "import plotly.graph_objects as go"
   ]
  },
  {
   "cell_type": "markdown",
   "metadata": {},
   "source": [
    "# Ejercicios"
   ]
  },
  {
   "cell_type": "markdown",
   "metadata": {},
   "source": [
    "## Ejercicio 1\n",
    "Pensemos en el caso de un pequeño empresario agrícola que debe decidir qué cantidad producirá. Cuando el precio es de 10€ por unidad de producción, lanza 90 unidades al mercado. Si las condiciones de mercado hacen aumentar a 20€ el precio, estará dispuesto a trabajar horas extra para lanzar 110 unidades. Si le precio sigue subiendo hasta los 30€, el agricultor trabajará los fines de semana para producir 140 unidades. Dibujar la función de oferta de este agricultor."
   ]
  },
  {
   "cell_type": "code",
   "execution_count": null,
   "metadata": {
    "tags": [
     "remove-cell"
    ]
   },
   "outputs": [],
   "source": [
    "# Rellenar las cantidades y precios marcados con ?\n",
    "\n",
    "ej1_precios = [?,?,?]\n",
    "ej1_cantidades =  [?,?,?]\n",
    "\n",
    "ej1_tabla = Table().with_columns(\"Precio\", ej1_precios, \"Cantidad\", ej1_cantidades)\n",
    "ej1_tabla"
   ]
  },
  {
   "cell_type": "code",
   "execution_count": null,
   "metadata": {
    "tags": [
     "remove-cell"
    ]
   },
   "outputs": [],
   "source": [
    "pintar_funcion_oferta(ej1_tabla.column('Cantidad'), ej1_tabla.column('Precio'))"
   ]
  },
  {
   "cell_type": "markdown",
   "metadata": {},
   "source": [
    "## Ejercicio 2\n",
    "Indica cómo afectan a la función de oferta de sillas de madera los siguientes factores. Justifica siempre tu respuesta y dibuja la gráfica correspondiente:\n",
    "\n",
    "a) Un incremento del precio de la madera\n",
    "\n",
    "b) Que se pongan de moda esta clase de sillas"
   ]
  },
  {
   "cell_type": "code",
   "execution_count": null,
   "metadata": {
    "tags": [
     "remove-cell"
    ]
   },
   "outputs": [],
   "source": [
    "ej2_precios = [0,12,24,36,48,60]\n",
    "ej2_funcion = lambda P: 10 + (0.4 * P)\n",
    "ej2_cantidades = [ej2_funcion(P) for P in ej2_precios]\n",
    "\n",
    "ej2_tabla = Table().with_columns(\"Precio\", ej2_precios, \n",
    "                                 \"Cantidad\", ej2_cantidades)\n",
    "\n",
    "pintar_funcion_oferta_otros_factores(ej2_tabla.column('Cantidad'), ej2_tabla.column('Precio'), -20, 20, lambda p, var: 10 + var + (0.4 * p))"
   ]
  },
  {
   "cell_type": "markdown",
   "metadata": {},
   "source": [
    "## Ejercicio 3\n",
    "El mercado de pantalones está integrado por 3 empresas. Cuando el precio es de 1€, la empresa A oferta 15 pares, la empresa B oferta 10 pares y la empresa C oferta 10 pares. Si el precio es de 2€, las cantidades ofrecidas por las 3 empresas son 40, 30 y 20 pares, respectivamente. Cuando el precio sube a 3€, las 3 empresas ofertan 65, 40 y 22 pares, respectivamente. Para un precio de 4€, las cantidades ofrecidas son 75, 50 y 25 pares, respectivamente. Y cuando el precio sube hasta 5€, las 3 empresas ofrecen 100, 75 y 50 pares, respectivamente. A partir de esta información, calcula la tabla de oferta del mercado y representa gráficamente la curva de oferta."
   ]
  },
  {
   "cell_type": "code",
   "execution_count": null,
   "metadata": {
    "tags": [
     "remove-cell"
    ]
   },
   "outputs": [],
   "source": [
    "precios = [1,2,3,4,5]\n",
    "empresaA = [20,40,65,75,100]\n",
    "empresaB = [15,30,40,50,75]\n",
    "empresaC = [10,20,22,25,50]\n",
    "\n",
    "ejercicio3_tabla = Table().with_columns(\"Precio\", precios, \n",
    "                                        \"Empresa A\", empresaA,\n",
    "                                        \"Empresa B\", empresaB,\n",
    "                                        \"Empresa C\", empresaC)\n",
    "\n",
    "ejercicio3_tabla"
   ]
  },
  {
   "cell_type": "code",
   "execution_count": null,
   "metadata": {
    "scrolled": false,
    "tags": [
     "remove-cell"
    ]
   },
   "outputs": [],
   "source": [
    "pintar_funcion_oferta_multiple(\n",
    "    [[ejercicio3_tabla.column('Empresa A'), ejercicio3_tabla.column('Precio'), \"Empresa A\"], \n",
    "     [ejercicio3_tabla.column('Empresa B'), ejercicio3_tabla.column('Precio'), \"Empresa B\"],\n",
    "     [ejercicio3_tabla.column('Empresa C'), ejercicio3_tabla.column('Precio'), \"Empresa C\"]])"
   ]
  },
  {
   "cell_type": "code",
   "execution_count": null,
   "metadata": {
    "tags": [
     "remove-cell"
    ]
   },
   "outputs": [],
   "source": [
    "# Introducir los valores de la función de oferta agregada\n",
    "agregada = [?,?,?,?,?]\n",
    "\n",
    "pintar_funcion_oferta_multiple(\n",
    "    [[ejercicio3_tabla.column('Empresa A'), ejercicio3_tabla.column('Precio'), \"Empresa A\"], \n",
    "     [ejercicio3_tabla.column('Empresa B'), ejercicio3_tabla.column('Precio'), \"Empresa B\"],\n",
    "     [ejercicio3_tabla.column('Empresa C'), ejercicio3_tabla.column('Precio'), \"Empresa C\"],\n",
    "     [agregada, ejercicio3_tabla.column('Precio'), \"Función agregada\"]])\n"
   ]
  }
 ],
 "metadata": {
  "celltoolbar": "Tags",
  "kernelspec": {
   "display_name": "Python 3",
   "language": "python",
   "name": "python3"
  },
  "language_info": {
   "codemirror_mode": {
    "name": "ipython",
    "version": 3
   },
   "file_extension": ".py",
   "mimetype": "text/x-python",
   "name": "python",
   "nbconvert_exporter": "python",
   "pygments_lexer": "ipython3",
   "version": "3.7.1"
  }
 },
 "nbformat": 4,
 "nbformat_minor": 4
}

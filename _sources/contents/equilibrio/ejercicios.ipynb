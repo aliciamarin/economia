{
 "cells": [
  {
   "cell_type": "code",
   "execution_count": null,
   "metadata": {
    "tags": [
     "remove-cell"
    ]
   },
   "outputs": [],
   "source": [
    "%run 'funciones'\n",
    "from datascience import *\n",
    "import numpy as np\n",
    "import plotly.graph_objects as go"
   ]
  },
  {
   "cell_type": "markdown",
   "metadata": {},
   "source": [
    "# Ejercicios"
   ]
  },
  {
   "cell_type": "markdown",
   "metadata": {},
   "source": [
    "## Ejercicio 1 \n",
    "La expresión matemática del equilibro de mercado se haya con un sistema de ecuaciones en el que se unen la función de demanda con la de oferta. Supongamos que el mercado de pantalones tiene una función de oferta Q = 3 + 0,3 P, y la de demanda Q = 39 – 0,3 P, siendo Q la cantidad de pantalones ofrecidos y P el precio. Calcula, utilizando ambas ecuaciones, el precio y la cantidad de equilibrio del mercado de pantalones. ¿Qué sucedería con la cantidad demandada y con la cantidad ofrecida si el precio fuese de 30 euros? ¿Y si fuese de 90 euros?"
   ]
  },
  {
   "cell_type": "code",
   "execution_count": null,
   "metadata": {
    "tags": [
     "remove-cell"
    ]
   },
   "outputs": [],
   "source": [
    "ej1_precios = np.arange(0, 120, 1)\n",
    "\n",
    "ej1_funcionOferta = lambda p: 3 + (0.3 * p)\n",
    "ej1_cantidadesOferta = [ej1_funcionOferta(P) for P in ej1_precios]\n",
    "\n",
    "ej1_funcionDemanda = lambda p: 39 - (0.3 * p)\n",
    "ej1_cantidadesDemanda = [ej1_funcionDemanda(P) for P in ej1_precios]\n",
    "\n",
    "# Sustitye los valores de x e y por los correspodientes al punto de equilibrio de mercado\n",
    "ej1_equilibrio = [x,y]\n",
    "\n",
    "pintar_funcion_equilibrio_variacion_precio(\n",
    "                          ej1_cantidadesOferta, ej1_precios, ej1_funcionOferta,\n",
    "                          ej1_cantidadesDemanda, ej1_precios, ej1_funcionDemanda,\n",
    "                          ej1_equilibrio)\n"
   ]
  },
  {
   "cell_type": "markdown",
   "metadata": {},
   "source": [
    "## Ejercicio 2\n",
    "Indica qué va a suceder con los precios y la cantidad de equilibrio en los siguientes casos: "
   ]
  },
  {
   "cell_type": "markdown",
   "metadata": {},
   "source": [
    "a) En el mercado del transporte por carretera, cuando aumenta el precio del gasóleo. "
   ]
  },
  {
   "cell_type": "code",
   "execution_count": null,
   "metadata": {
    "tags": [
     "remove-cell"
    ]
   },
   "outputs": [],
   "source": [
    "ej2a_precios = np.arange(0,64,1)\n",
    "\n",
    "ej2a_funcionOferta = lambda p, var: 2 + var + (0.5 * p)\n",
    "ej2a_cantidadesOferta = [ej2a_funcionOferta(P,0) for P in ej2a_precios]\n",
    "ej2a_tabla_oferta = Table().with_columns(\"Precio\", ej2a_precios, \"Cantidad\", ej2a_cantidadesOferta)\n",
    "\n",
    "ej2a_funcionDemanda = lambda p, var: 20 + var - (0.6 * p)\n",
    "ej2a_cantidadesDemanda = [ej2a_funcionDemanda(P,0) for P in ej2a_precios]\n",
    "ej2a_tabla_demanda = Table().with_columns(\"Precio\", ej2a_precios, \"Cantidad\", ej2a_cantidadesDemanda)\n",
    "\n",
    "ej2a_funcionEquilibrio = lambda varD, varO: (20 + varD - 2 - varO)/1.1\n",
    "\n",
    "pintar_funcion_equilibrio_variacion_otros_oferta(\n",
    "                    ej2a_tabla_oferta.column('Cantidad'), ej2a_tabla_oferta.column('Precio'), ej2a_funcionOferta,\n",
    "                    ej2a_tabla_demanda.column('Cantidad'), ej2a_tabla_demanda.column('Precio'), ej2a_funcionDemanda,\n",
    "                    ej2a_funcionEquilibrio)\n",
    "\n",
    "pintar_funcion_equilibrio_variacion_otros_demanda(\n",
    "                    ej2a_tabla_oferta.column('Cantidad'), ej2a_tabla_oferta.column('Precio'), ej2a_funcionOferta,\n",
    "                    ej2a_tabla_demanda.column('Cantidad'), ej2a_tabla_demanda.column('Precio'), ej2a_funcionDemanda,\n",
    "                    ej2a_funcionEquilibrio)"
   ]
  },
  {
   "cell_type": "markdown",
   "metadata": {},
   "source": [
    "b) En el mercado de los paraguas, cuando hay un invierno lluvioso. "
   ]
  },
  {
   "cell_type": "code",
   "execution_count": null,
   "metadata": {
    "tags": [
     "remove-cell"
    ]
   },
   "outputs": [],
   "source": [
    "ej2b_precios = np.arange(0,100,1)\n",
    "\n",
    "ej2b_funcionOferta = lambda p, var: 5 + var + (0.2 * p)\n",
    "ej2b_cantidadesOferta = [ej2b_funcionOferta(P,0) for P in ej2b_precios]\n",
    "ej2b_tabla_oferta = Table().with_columns(\"Precio\", ej2b_precios, \"Cantidad\", ej2b_cantidadesOferta)\n",
    "\n",
    "ej2b_funcionDemanda = lambda p, var: 40 + var - (0.4 * p)\n",
    "ej2b_cantidadesDemanda = [ej2b_funcionDemanda(P,0) for P in ej2b_precios]\n",
    "ej2b_tabla_demanda = Table().with_columns(\"Precio\", ej2b_precios, \"Cantidad\", ej2b_cantidadesDemanda)\n",
    "\n",
    "ej2b_funcionEquilibrio = lambda varD, varO: (40 + varD - 5 - varO)/0.6\n",
    "\n",
    "pintar_funcion_equilibrio_variacion_otros_oferta(\n",
    "                    ej2b_tabla_oferta.column('Cantidad'), ej2b_tabla_oferta.column('Precio'), ej2b_funcionOferta,\n",
    "                    ej2b_tabla_demanda.column('Cantidad'), ej2b_tabla_demanda.column('Precio'), ej2b_funcionDemanda,\n",
    "                    ej2b_funcionEquilibrio)\n",
    "\n",
    "pintar_funcion_equilibrio_variacion_otros_demanda(\n",
    "                    ej2b_tabla_oferta.column('Cantidad'), ej2b_tabla_oferta.column('Precio'), ej2b_funcionOferta,\n",
    "                    ej2b_tabla_demanda.column('Cantidad'), ej2b_tabla_demanda.column('Precio'), ej2b_funcionDemanda,\n",
    "                    ej2b_funcionEquilibrio)"
   ]
  },
  {
   "cell_type": "markdown",
   "metadata": {},
   "source": [
    "c) En el mercado de quesos manchegos, si un estudio científico demuestra que comerlos todos los días es bueno para la salud. "
   ]
  },
  {
   "cell_type": "code",
   "execution_count": null,
   "metadata": {
    "tags": [
     "remove-cell"
    ]
   },
   "outputs": [],
   "source": [
    "ej2c_precios = np.arange(0,30,1)\n",
    "\n",
    "ej2c_funcionOferta = lambda p, var: 2 + var + (0.4 * p)\n",
    "ej2c_cantidadesOferta = [ej2c_funcionOferta(P,0) for P in ej2c_precios]\n",
    "ej2c_tabla_oferta = Table().with_columns(\"Precio\", ej2c_precios, \"Cantidad\", ej2c_cantidadesOferta)\n",
    "\n",
    "ej2c_funcionDemanda = lambda p, var: 4 + var - (0.4 * p)\n",
    "ej2c_cantidadesDemanda = [ej2c_funcionDemanda(P,0) for P in ej2c_precios]\n",
    "ej2c_tabla_demanda = Table().with_columns(\"Precio\", ej2c_precios, \"Cantidad\", ej2c_cantidadesDemanda)\n",
    "\n",
    "ej2c_funcionEquilibrio = lambda varD, varO: (4 + varD - 2 - varO)/0.8\n",
    "\n",
    "pintar_funcion_equilibrio_variacion_otros_oferta(\n",
    "                    ej2c_tabla_oferta.column('Cantidad'), ej2c_tabla_oferta.column('Precio'), ej2c_funcionOferta,\n",
    "                    ej2c_tabla_demanda.column('Cantidad'), ej2c_tabla_demanda.column('Precio'), ej2c_funcionDemanda,\n",
    "                    ej2c_funcionEquilibrio)\n",
    "\n",
    "pintar_funcion_equilibrio_variacion_otros_demanda(\n",
    "                    ej2c_tabla_oferta.column('Cantidad'), ej2c_tabla_oferta.column('Precio'), ej2c_funcionOferta,\n",
    "                    ej2c_tabla_demanda.column('Cantidad'), ej2c_tabla_demanda.column('Precio'), ej2c_funcionDemanda,\n",
    "                    ej2c_funcionEquilibrio)"
   ]
  },
  {
   "cell_type": "markdown",
   "metadata": {},
   "source": [
    "d) En el mercado de hamburguesas, si las campañas en contra de la comida rápida logran los efectos esperados."
   ]
  },
  {
   "cell_type": "code",
   "execution_count": null,
   "metadata": {
    "tags": [
     "remove-cell"
    ]
   },
   "outputs": [],
   "source": [
    "ej2d_precios = np.arange(0,20,0.5)\n",
    "\n",
    "ej2d_funcionOferta = lambda p, var: 20 + var + (0.5 * p)\n",
    "ej2d_cantidadesOferta = [ej2d_funcionOferta(P,0) for P in ej2d_precios]\n",
    "ej2d_tabla_oferta = Table().with_columns(\"Precio\", ej2d_precios, \"Cantidad\", ej2d_cantidadesOferta)\n",
    "\n",
    "ej2d_funcionDemanda = lambda p, var: 40 + var - (1.1 * p)\n",
    "ej2d_cantidadesDemanda = [ej2d_funcionDemanda(P,0) for P in ej2d_precios]\n",
    "ej2d_tabla_demanda = Table().with_columns(\"Precio\", ej2d_precios, \"Cantidad\", ej2d_cantidadesDemanda)\n",
    "\n",
    "ej2d_funcionEquilibrio = lambda varD, varO: (40 + varD - 20 - varO)/1.6\n",
    "\n",
    "pintar_funcion_equilibrio_variacion_otros_oferta(\n",
    "                    ej2d_tabla_oferta.column('Cantidad'), ej2d_tabla_oferta.column('Precio'), ej2d_funcionOferta,\n",
    "                    ej2d_tabla_demanda.column('Cantidad'), ej2d_tabla_demanda.column('Precio'), ej2d_funcionDemanda,\n",
    "                    ej2d_funcionEquilibrio)\n",
    "\n",
    "pintar_funcion_equilibrio_variacion_otros_demanda(\n",
    "                    ej2d_tabla_oferta.column('Cantidad'), ej2d_tabla_oferta.column('Precio'), ej2d_funcionOferta,\n",
    "                    ej2d_tabla_demanda.column('Cantidad'), ej2d_tabla_demanda.column('Precio'), ej2d_funcionDemanda,\n",
    "                    ej2d_funcionEquilibrio)"
   ]
  },
  {
   "cell_type": "markdown",
   "metadata": {},
   "source": [
    "e) En el mercado de ordenadores, si se logran los avances tecnológicos que incrementan la productividad en sus sistemas de producción."
   ]
  },
  {
   "cell_type": "code",
   "execution_count": null,
   "metadata": {
    "tags": [
     "remove-cell"
    ]
   },
   "outputs": [],
   "source": [
    "ej2e_precios = np.arange(0,120,1)\n",
    "\n",
    "ej2e_funcionOferta = lambda p, var: 100 + var + (0.8 * p)\n",
    "ej2e_cantidadesOferta = [ej2e_funcionOferta(P,0) for P in ej2e_precios]\n",
    "ej2e_tabla_oferta = Table().with_columns(\"Precio\", ej2e_precios, \"Cantidad\", ej2e_cantidadesOferta)\n",
    "\n",
    "ej2e_funcionDemanda = lambda p, var: 120 + var - (0.9 * p)\n",
    "ej2e_cantidadesDemanda = [ej2e_funcionDemanda(P,0) for P in ej2e_precios]\n",
    "ej2e_tabla_demanda = Table().with_columns(\"Precio\", ej2e_precios, \"Cantidad\", ej2e_cantidadesDemanda)\n",
    "\n",
    "ej2e_funcionEquilibrio = lambda varD, varO: (120 + varD - 100 - varO)/1.7\n",
    "\n",
    "pintar_funcion_equilibrio_variacion_otros_oferta(\n",
    "                    ej2e_tabla_oferta.column('Cantidad'), ej2e_tabla_oferta.column('Precio'), ej2e_funcionOferta,\n",
    "                    ej2e_tabla_demanda.column('Cantidad'), ej2e_tabla_demanda.column('Precio'), ej2e_funcionDemanda,\n",
    "                    ej2e_funcionEquilibrio)\n",
    "\n",
    "pintar_funcion_equilibrio_variacion_otros_demanda(\n",
    "                    ej2e_tabla_oferta.column('Cantidad'), ej2e_tabla_oferta.column('Precio'), ej2e_funcionOferta,\n",
    "                    ej2e_tabla_demanda.column('Cantidad'), ej2e_tabla_demanda.column('Precio'), ej2e_funcionDemanda,\n",
    "                    ej2e_funcionEquilibrio)"
   ]
  },
  {
   "cell_type": "markdown",
   "metadata": {},
   "source": [
    "## Ejercicio 3\n",
    "Si la curva de demanda de un bien es Q = 40 – 4P, y la de oferta Q = P – 5; siendo P el precio del bien y Q la cantidad: \n",
    "\n",
    "a) Obtén el precio y la cantidad de equilibrio. \n",
    "\n",
    "b) Si el Estado impone un precio máximo del bien en 6 unidades monetarias, ¿habrá excedente de mercado o escasez de mercado?"
   ]
  },
  {
   "cell_type": "code",
   "execution_count": null,
   "metadata": {
    "tags": [
     "remove-cell"
    ]
   },
   "outputs": [],
   "source": [
    "ej3_precios = np.arange(0, 20, 1)\n",
    "\n",
    "ej3_funcionOferta = lambda p: p - 5\n",
    "ej3_cantidadesOferta = [ej3_funcionOferta(P) for P in ej3_precios]\n",
    "\n",
    "ej3_funcionDemanda = lambda p: 40 - (4 * p)\n",
    "ej3_cantidadesDemanda = [ej3_funcionDemanda(P) for P in ej3_precios]\n",
    "\n",
    "# Sustitye los valores de x e y por los correspodientes al punto de equilibrio de mercado\n",
    "ej3_equilibrio = [x, y]\n",
    "\n",
    "pintar_funcion_equilibrio_variacion_precio(\n",
    "                          ej3_cantidadesOferta, ej3_precios, ej3_funcionOferta,\n",
    "                          ej3_cantidadesDemanda, ej3_precios, ej3_funcionDemanda,\n",
    "                          ej3_equilibrio, 10, 5)\n"
   ]
  }
 ],
 "metadata": {
  "celltoolbar": "Tags",
  "kernelspec": {
   "display_name": "Python 3",
   "language": "python",
   "name": "python3"
  },
  "language_info": {
   "codemirror_mode": {
    "name": "ipython",
    "version": 3
   },
   "file_extension": ".py",
   "mimetype": "text/x-python",
   "name": "python",
   "nbconvert_exporter": "python",
   "pygments_lexer": "ipython3",
   "version": "3.7.1"
  }
 },
 "nbformat": 4,
 "nbformat_minor": 4
}
